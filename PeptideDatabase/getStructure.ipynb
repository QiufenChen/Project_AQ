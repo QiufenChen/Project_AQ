{
 "cells": [
  {
   "cell_type": "code",
   "execution_count": 15,
   "id": "4f34aa2f",
   "metadata": {},
   "outputs": [],
   "source": [
    "from rdkit import Chem\n",
    "from rdkit.Chem import rdMolDescriptors as rdDesc\n",
    "from rdkit.Chem import AllChem\n",
    "from rdkit.Chem import rdMolDescriptors\n",
    "from rdkit.Chem import Draw\n",
    "import csv"
   ]
  },
  {
   "cell_type": "code",
   "execution_count": 54,
   "id": "aa4400e7",
   "metadata": {},
   "outputs": [
    {
     "name": "stdout",
     "output_type": "stream",
     "text": [
      "Load Dataset from ./non-Residues.csv ... "
     ]
    },
    {
     "name": "stderr",
     "output_type": "stream",
     "text": [
      "[11:25:47] UFFTYPER: Unrecognized atom type: S_6+6 (10)\n"
     ]
    }
   ],
   "source": [
    "file = './non-Residues.csv'\n",
    "print(\"Load Dataset from %s ... \" % (file), flush=True, end=\"\")\n",
    "csv_reader = csv.reader(open(file))\n",
    "next(csv_reader)\n",
    "\n",
    "data = []\n",
    "for line in csv_reader:\n",
    "    sml = line[0]\n",
    "    mol = Chem.MolFromSmiles(sml)\n",
    "    \n",
    "    # cheack for chirality\n",
    "    chirality = Chem.FindMolChiralCenters(mol)\n",
    "    # print(chirality)\n",
    "    \n",
    "    if mol is None:\n",
    "        raise ValueError(\"Invalid SMILES code: %s\" % (sml))\n",
    "    \n",
    "    m3d = Chem.AddHs(mol)\n",
    "    cid = AllChem.EmbedMolecule(m3d, randomSeed=10)\n",
    "    AllChem.MMFFOptimizeMolecule(m3d,confId=cid)\n",
    "    \n",
    "    # add some properties\n",
    "    m3d.SetProp(\"Name\",line[1])\n",
    "    m3d.SetProp('canvasUID',line[2])\n",
    "    m3d.SetProp('MW',line[3])\n",
    "    m3d.SetProp(\"AlogP\",line[4])\n",
    "    m3d.SetProp('HBA', line[5])\n",
    "    m3d.SetProp('HBD', line[6])\n",
    "    m3d.SetProp('RB', line[7])\n",
    "    m3d.SetProp(\"PSA\",line[8])\n",
    "    m3d.SetProp('Estate',line[9])\n",
    "    m3d.SetProp('Polar',line[10])\n",
    "    m3d.SetProp(\"Chirality\",str(chirality))\n",
    "    \n",
    "    # look 3D structure\n",
    "    # print(Chem.MolToMolBlock(m3d))  \n",
    "    \n",
    "    data.append(m3d) "
   ]
  },
  {
   "cell_type": "code",
   "execution_count": 55,
   "id": "d95b079a",
   "metadata": {},
   "outputs": [],
   "source": [
    "# save to sdf file\n",
    "with Chem.SDWriter(r\"./conformer.sdf\") as w:\n",
    "    for mol in data:\n",
    "        w.write(mol)"
   ]
  },
  {
   "cell_type": "code",
   "execution_count": 41,
   "id": "cfe3899e",
   "metadata": {},
   "outputs": [],
   "source": []
  },
  {
   "cell_type": "code",
   "execution_count": null,
   "id": "1184ddef",
   "metadata": {},
   "outputs": [],
   "source": []
  }
 ],
 "metadata": {
  "kernelspec": {
   "display_name": "Python 3 (ipykernel)",
   "language": "python",
   "name": "python3"
  },
  "language_info": {
   "codemirror_mode": {
    "name": "ipython",
    "version": 3
   },
   "file_extension": ".py",
   "mimetype": "text/x-python",
   "name": "python",
   "nbconvert_exporter": "python",
   "pygments_lexer": "ipython3",
   "version": "3.9.7"
  }
 },
 "nbformat": 4,
 "nbformat_minor": 5
}
